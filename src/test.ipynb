{
 "cells": [
  {
   "cell_type": "code",
   "execution_count": 3,
   "id": "647ba195",
   "metadata": {},
   "outputs": [],
   "source": [
    "from mission.db import MissionDB\n",
    "from mission.manager import MissionManager\n",
    "from mission.mission import Mission\n",
    "\n",
    "db = MissionDB(host=\"localhost\", user=\"root\", password=\"jinhyuk2dacibul\", database=\"dust\")\n",
    "manager = MissionManager(db=db)\n",
    "manager.load_from_db()\n",
    "\n",
    "# 미션 생성 및 등록\n",
    "m1 = Mission(\"M0002\", \"광물\", 700, \"load_B\", \"belt\")\n",
    "manager.add_mission(m1)\n",
    "\n",
    "# 미션 완료 처리\n",
    "manager.complete_mission(\"M0002\")\n",
    "\n",
    "# 종료 전 정리\n",
    "db.close()"
   ]
  },
  {
   "cell_type": "code",
   "execution_count": null,
   "id": "4a2f4071",
   "metadata": {},
   "outputs": [],
   "source": []
  }
 ],
 "metadata": {
  "kernelspec": {
   "display_name": "qt_venv",
   "language": "python",
   "name": "python3"
  },
  "language_info": {
   "codemirror_mode": {
    "name": "ipython",
    "version": 3
   },
   "file_extension": ".py",
   "mimetype": "text/x-python",
   "name": "python",
   "nbconvert_exporter": "python",
   "pygments_lexer": "ipython3",
   "version": "3.12.3"
  }
 },
 "nbformat": 4,
 "nbformat_minor": 5
}
